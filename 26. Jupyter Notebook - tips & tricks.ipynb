{
 "cells": [
  {
   "cell_type": "markdown",
   "id": "d82773c0",
   "metadata": {},
   "source": [
    "<h1>LAB-VARIABLES<h1>"
   ]
  },
  {
   "cell_type": "code",
   "execution_count": 1,
   "id": "6489e4ac",
   "metadata": {},
   "outputs": [],
   "source": [
    "box = 'cola:9 bottles:1liter'"
   ]
  },
  {
   "cell_type": "code",
   "execution_count": 2,
   "id": "b8c4dcc8",
   "metadata": {},
   "outputs": [
    {
     "data": {
      "text/plain": [
       "'cola:9 bottles:1liter'"
      ]
     },
     "execution_count": 2,
     "metadata": {},
     "output_type": "execute_result"
    }
   ],
   "source": [
    "box"
   ]
  },
  {
   "cell_type": "code",
   "execution_count": 3,
   "id": "ea72f303",
   "metadata": {},
   "outputs": [
    {
     "data": {
      "text/plain": [
       "'COLA:9 BOTTLES:1LITER'"
      ]
     },
     "execution_count": 3,
     "metadata": {},
     "output_type": "execute_result"
    }
   ],
   "source": [
    "box.upper()"
   ]
  },
  {
   "cell_type": "code",
   "execution_count": 4,
   "id": "1492fc35",
   "metadata": {},
   "outputs": [
    {
     "data": {
      "text/plain": [
       "'cola:9 bottles:1liter'"
      ]
     },
     "execution_count": 4,
     "metadata": {},
     "output_type": "execute_result"
    }
   ],
   "source": [
    "box.lower()"
   ]
  },
  {
   "cell_type": "code",
   "execution_count": 5,
   "id": "3339469d",
   "metadata": {},
   "outputs": [
    {
     "data": {
      "text/plain": [
       "['cola', '9 bottles', '1liter']"
      ]
     },
     "execution_count": 5,
     "metadata": {},
     "output_type": "execute_result"
    }
   ],
   "source": [
    "box.split(\":\")"
   ]
  },
  {
   "cell_type": "code",
   "execution_count": null,
   "id": "3db055ef",
   "metadata": {},
   "outputs": [],
   "source": []
  }
 ],
 "metadata": {
  "kernelspec": {
   "display_name": "Python 3 (ipykernel)",
   "language": "python",
   "name": "python3"
  },
  "language_info": {
   "codemirror_mode": {
    "name": "ipython",
    "version": 3
   },
   "file_extension": ".py",
   "mimetype": "text/x-python",
   "name": "python",
   "nbconvert_exporter": "python",
   "pygments_lexer": "ipython3",
   "version": "3.9.12"
  }
 },
 "nbformat": 4,
 "nbformat_minor": 5
}
