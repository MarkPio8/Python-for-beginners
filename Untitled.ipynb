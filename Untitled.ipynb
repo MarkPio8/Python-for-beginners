{
 "cells": [
  {
   "cell_type": "code",
   "execution_count": 2,
   "id": "ade6b990",
   "metadata": {},
   "outputs": [],
   "source": [
    "classroom='English:104'"
   ]
  },
  {
   "cell_type": "code",
   "execution_count": 3,
   "id": "3ce2100a",
   "metadata": {},
   "outputs": [
    {
     "data": {
      "text/plain": [
       "'English:104'"
      ]
     },
     "execution_count": 3,
     "metadata": {},
     "output_type": "execute_result"
    }
   ],
   "source": [
    "classroom"
   ]
  },
  {
   "cell_type": "markdown",
   "id": "3c34804a",
   "metadata": {},
   "source": []
  },
  {
   "cell_type": "code",
   "execution_count": 5,
   "id": "cf38cba0",
   "metadata": {},
   "outputs": [
    {
     "data": {
      "text/plain": [
       "'ENGLISH:104'"
      ]
     },
     "execution_count": 5,
     "metadata": {},
     "output_type": "execute_result"
    }
   ],
   "source": [
    "classroom.upper()"
   ]
  },
  {
   "cell_type": "code",
   "execution_count": 6,
   "id": "7c1be711",
   "metadata": {},
   "outputs": [],
   "source": [
    "classroom.upper?"
   ]
  },
  {
   "cell_type": "code",
   "execution_count": 7,
   "id": "ced4674f",
   "metadata": {},
   "outputs": [
    {
     "data": {
      "text/plain": [
       "Type help() for interactive help, or help(object) for help about object."
      ]
     },
     "execution_count": 7,
     "metadata": {},
     "output_type": "execute_result"
    }
   ],
   "source": [
    "help"
   ]
  },
  {
   "cell_type": "code",
   "execution_count": 8,
   "id": "806b92ef",
   "metadata": {},
   "outputs": [
    {
     "name": "stdout",
     "output_type": "stream",
     "text": [
      "Help on built-in function upper:\n",
      "\n",
      "upper() method of builtins.str instance\n",
      "    Return a copy of the string converted to uppercase.\n",
      "\n"
     ]
    }
   ],
   "source": [
    "help(classroom.upper)"
   ]
  },
  {
   "cell_type": "code",
   "execution_count": 9,
   "id": "3026c611",
   "metadata": {},
   "outputs": [
    {
     "data": {
      "text/plain": [
       "['English', '104']"
      ]
     },
     "execution_count": 9,
     "metadata": {},
     "output_type": "execute_result"
    }
   ],
   "source": [
    "classroom.split(':')"
   ]
  },
  {
   "cell_type": "code",
   "execution_count": 10,
   "id": "b8132e8b",
   "metadata": {},
   "outputs": [
    {
     "name": "stdout",
     "output_type": "stream",
     "text": [
      "Help on built-in function split:\n",
      "\n",
      "split(sep=None, maxsplit=-1) method of builtins.str instance\n",
      "    Return a list of the words in the string, using sep as the delimiter string.\n",
      "    \n",
      "    sep\n",
      "      The delimiter according which to split the string.\n",
      "      None (the default value) means split according to any whitespace,\n",
      "      and discard empty strings from the result.\n",
      "    maxsplit\n",
      "      Maximum number of splits to do.\n",
      "      -1 (the default value) means no limit.\n",
      "\n"
     ]
    }
   ],
   "source": [
    "help(classroom.split)"
   ]
  },
  {
   "cell_type": "code",
   "execution_count": null,
   "id": "2f2c8e3c",
   "metadata": {},
   "outputs": [],
   "source": []
  }
 ],
 "metadata": {
  "kernelspec": {
   "display_name": "Python 3 (ipykernel)",
   "language": "python",
   "name": "python3"
  },
  "language_info": {
   "codemirror_mode": {
    "name": "ipython",
    "version": 3
   },
   "file_extension": ".py",
   "mimetype": "text/x-python",
   "name": "python",
   "nbconvert_exporter": "python",
   "pygments_lexer": "ipython3",
   "version": "3.9.12"
  }
 },
 "nbformat": 4,
 "nbformat_minor": 5
}
