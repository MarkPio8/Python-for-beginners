{
 "cells": [
  {
   "cell_type": "code",
   "execution_count": null,
   "id": "3b16bc62",
   "metadata": {},
   "outputs": [],
   "source": [
    "# W tym zadaniu liczymy pole kola\n"
   ]
  },
  {
   "cell_type": "code",
   "execution_count": 1,
   "id": "59ecc5e4",
   "metadata": {},
   "outputs": [],
   "source": [
    "WartoscPi = 3.14"
   ]
  },
  {
   "cell_type": "code",
   "execution_count": 2,
   "id": "6219534d",
   "metadata": {},
   "outputs": [],
   "source": [
    "PromienOkregu = 5"
   ]
  },
  {
   "cell_type": "code",
   "execution_count": 4,
   "id": "8bba245c",
   "metadata": {},
   "outputs": [],
   "source": [
    "PoleKola = WartoscPi * PromienOkregu**2"
   ]
  },
  {
   "cell_type": "code",
   "execution_count": 5,
   "id": "4e1e5d13",
   "metadata": {},
   "outputs": [
    {
     "name": "stdout",
     "output_type": "stream",
     "text": [
      "Pole kola wynosi 78.5\n"
     ]
    }
   ],
   "source": [
    "print('Pole kola wynosi', PoleKola)"
   ]
  },
  {
   "cell_type": "code",
   "execution_count": 6,
   "id": "db294281",
   "metadata": {},
   "outputs": [],
   "source": [
    "# W tym zadaniu liczymy obwood okregu\n"
   ]
  },
  {
   "cell_type": "code",
   "execution_count": 7,
   "id": "92c721b8",
   "metadata": {},
   "outputs": [],
   "source": [
    "ObwodOkregu = 2 * WartoscPi * PromienOkregu"
   ]
  },
  {
   "cell_type": "code",
   "execution_count": 8,
   "id": "05b36eb4",
   "metadata": {},
   "outputs": [
    {
     "name": "stdout",
     "output_type": "stream",
     "text": [
      "31.400000000000002\n"
     ]
    }
   ],
   "source": [
    "print(ObwodOkregu)"
   ]
  },
  {
   "cell_type": "code",
   "execution_count": 1,
   "id": "69460b5a",
   "metadata": {},
   "outputs": [],
   "source": [
    "#Pole prostokąta"
   ]
  },
  {
   "cell_type": "code",
   "execution_count": 2,
   "id": "946a1281",
   "metadata": {},
   "outputs": [],
   "source": [
    "bok1 = 5\n",
    "bok2 = 10"
   ]
  },
  {
   "cell_type": "code",
   "execution_count": 3,
   "id": "fb92b834",
   "metadata": {},
   "outputs": [
    {
     "name": "stdout",
     "output_type": "stream",
     "text": [
      "Pole prostokata wynosi:  50\n"
     ]
    }
   ],
   "source": [
    "print('Pole prostokata wynosi: ',bok1 * bok2 )"
   ]
  },
  {
   "cell_type": "code",
   "execution_count": 4,
   "id": "512e9a23",
   "metadata": {},
   "outputs": [],
   "source": [
    "wys1 = 15"
   ]
  },
  {
   "cell_type": "code",
   "execution_count": 5,
   "id": "31bd9b23",
   "metadata": {},
   "outputs": [
    {
     "name": "stdout",
     "output_type": "stream",
     "text": [
      "Pole trapezu wynosi:  112.5\n"
     ]
    }
   ],
   "source": [
    "print('Pole trapezu wynosi: ', 0.5*(bok1+bok2)*wys1)"
   ]
  },
  {
   "cell_type": "code",
   "execution_count": null,
   "id": "d498d4fe",
   "metadata": {},
   "outputs": [],
   "source": [
    "#Obw walca"
   ]
  }
 ],
 "metadata": {
  "kernelspec": {
   "display_name": "Python 3 (ipykernel)",
   "language": "python",
   "name": "python3"
  },
  "language_info": {
   "codemirror_mode": {
    "name": "ipython",
    "version": 3
   },
   "file_extension": ".py",
   "mimetype": "text/x-python",
   "name": "python",
   "nbconvert_exporter": "python",
   "pygments_lexer": "ipython3",
   "version": "3.9.12"
  }
 },
 "nbformat": 4,
 "nbformat_minor": 5
}
