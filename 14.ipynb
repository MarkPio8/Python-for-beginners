{
 "cells": [
  {
   "cell_type": "code",
   "execution_count": 1,
   "id": "1ece9af6",
   "metadata": {},
   "outputs": [],
   "source": [
    "# 1 pajak zjada 1 muche w 5 godzin"
   ]
  },
  {
   "cell_type": "code",
   "execution_count": 2,
   "id": "a283113b",
   "metadata": {},
   "outputs": [],
   "source": [
    "# 5 pajakow zjada 5 much w 5 godzin"
   ]
  },
  {
   "cell_type": "code",
   "execution_count": 4,
   "id": "24cd72d0",
   "metadata": {},
   "outputs": [
    {
     "name": "stdout",
     "output_type": "stream",
     "text": [
      "Jeden pajak w 100 godzin zje 20.0 much\n"
     ]
    }
   ],
   "source": [
    "#1 pajak w 100 godzin\n",
    "print('Jeden pajak w 100 godzin zje', 100/5,\"much\")"
   ]
  },
  {
   "cell_type": "code",
   "execution_count": 5,
   "id": "441c04d4",
   "metadata": {},
   "outputs": [
    {
     "name": "stdout",
     "output_type": "stream",
     "text": [
      "100 pajak w 100 godzin zje 2000.0 much\n"
     ]
    }
   ],
   "source": [
    "#100 pajak w 100 godzin\n",
    "print('100 pajak w 100 godzin zje',100/5*100,\"much\")"
   ]
  },
  {
   "cell_type": "code",
   "execution_count": null,
   "id": "2d67620f",
   "metadata": {},
   "outputs": [],
   "source": []
  }
 ],
 "metadata": {
  "kernelspec": {
   "display_name": "Python 3 (ipykernel)",
   "language": "python",
   "name": "python3"
  },
  "language_info": {
   "codemirror_mode": {
    "name": "ipython",
    "version": 3
   },
   "file_extension": ".py",
   "mimetype": "text/x-python",
   "name": "python",
   "nbconvert_exporter": "python",
   "pygments_lexer": "ipython3",
   "version": "3.9.12"
  }
 },
 "nbformat": 4,
 "nbformat_minor": 5
}
